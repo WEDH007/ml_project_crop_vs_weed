{
 "cells": [
  {
   "cell_type": "markdown",
   "id": "08cdc811",
   "metadata": {},
   "source": [
    "# Updated Notebook Including Validation"
   ]
  },
  {
   "cell_type": "code",
   "execution_count": null,
   "id": "7bb7e029",
   "metadata": {},
   "outputs": [],
   "source": [
    "from google.colab import drive\n",
    "drive.mount('/content/drive')"
   ]
  },
  {
   "cell_type": "code",
   "execution_count": null,
   "id": "e2d70c6b",
   "metadata": {},
   "outputs": [],
   "source": [
    "ROOT_DIR = '/content/drive/MyDrive/ml_project_crop_vs_weed'"
   ]
  },
  {
   "cell_type": "code",
   "execution_count": null,
   "id": "15781631",
   "metadata": {},
   "outputs": [],
   "source": [
    "!pip install ultralytics\n",
    "!pip install paramiko"
   ]
  },
  {
   "cell_type": "code",
   "execution_count": null,
   "id": "e59d9b90",
   "metadata": {},
   "outputs": [],
   "source": [
    "# Import necessary libraries\n",
    "from ultralytics import YOLO\n",
    "import os\n",
    "\n",
    "# Load model configuration and weights (if starting from pretrained)\n",
    "model = YOLO(\"yolov8n.yaml\")  # Specify the correct path or model config\n",
    "\n",
    "# Train the model with validation\n",
    "results = model.train(data=os.path.join(ROOT_DIR, \"colab_config.yaml\"),\n",
    "                      epochs=100,\n",
    "                      batch_size=16,\n",
    "                      img_size=512,  # Image size for both training and validation\n",
    "                      val_img_size=512,  # Validation image size\n",
    "                      device='cuda',  # 'cuda' for GPU or 'cpu'\n",
    "                      save_period=10)  # Save a checkpoint every 10 epochs"
   ]
  },
  {
   "cell_type": "code",
   "execution_count": null,
   "id": "60545d69",
   "metadata": {},
   "outputs": [],
   "source": [
    "!scp -r /content/runs '/content/drive/MyDrive/ml_project_crop_vs_weed'"
   ]
  }
 ],
 "metadata": {},
 "nbformat": 4,
 "nbformat_minor": 5
}
